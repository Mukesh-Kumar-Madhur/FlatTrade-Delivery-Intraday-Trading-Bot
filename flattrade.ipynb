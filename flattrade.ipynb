{
 "cells": [
  {
   "cell_type": "code",
   "execution_count": 1,
   "id": "b1764d6f-3205-4fe1-8461-aa6400d1c28e",
   "metadata": {},
   "outputs": [],
   "source": [
    "# pip install NorenRestApiPy-0.0.16-py2.py3-none-any.whl"
   ]
  },
  {
   "cell_type": "code",
   "execution_count": null,
   "id": "ccc869e5-e0d4-4b6a-aca0-051b7553ea1d",
   "metadata": {},
   "outputs": [],
   "source": [
    "import pandas as pd\n",
    "import pytz, time\n",
    "import pyotp\n",
    "import requests\n",
    "import json\n",
    "from urllib.parse import parse_qs,urlparse\n",
    "import traceback\n",
    "import hashlib"
   ]
  },
  {
   "cell_type": "markdown",
   "id": "6e01f80e-a0b3-4873-8907-0a4fd874930b",
   "metadata": {},
   "source": [
    "## Credentials"
   ]
  },
  {
   "cell_type": "code",
   "execution_count": null,
   "id": "e687622b-d460-4a9c-9863-055880feabfb",
   "metadata": {},
   "outputs": [],
   "source": [
    "APIKEY=''\n",
    "secretKey = ''\n",
    "totp_key=''\n",
    "password = ''\n",
    "userid = ''\n",
    "headerJson =  {\"User-Agent\": \"Mozilla/5.0 (Windows NT 10.0; Win64; x64) AppleWebKit/537.36 (KHTML, like Gecko) Chrome/99.0.4844.74 Safari/537.36\", \"Referer\":\"https://auth.flattrade.in/\"}\n",
    "\n"
   ]
  },
  {
   "cell_type": "code",
   "execution_count": null,
   "id": "e611435f-535f-4cfb-8bea-84971a1c817a",
   "metadata": {},
   "outputs": [],
   "source": [
    "ses = requests.Session()\n",
    "sesUrl = 'https://authapi.flattrade.in/auth/session'\n",
    "passwordEncrpted =  hashlib.sha256(password.encode()).hexdigest()\n",
    "ses = requests.Session()\n",
    "\n",
    "res_pin = ses.post(sesUrl,headers=headerJson)\n",
    "sid = res_pin.text\n",
    "print(f'sid {sid}')\n",
    "url2 = 'https://authapi.flattrade.in/ftauth'\n",
    "payload = {\"UserName\":userid,\"Password\":passwordEncrpted,\"PAN_DOB\":pyotp.TOTP(totp_key).now(),\"App\":\"\",\"ClientID\":\"\",\"Key\":\"\",\"APIKey\":APIKEY,\"Sid\":sid,\n",
    "          \"Override\":\"Y\",\"Source\":\"AUTHPAGE\"}\n",
    "res2 = ses.post(url2, json=payload)\n",
    "reqcodeRes = res2.json()\n",
    "print(reqcodeRes)\n",
    "parsed = urlparse(reqcodeRes['RedirectURL'])  \n",
    "reqCode = parse_qs(parsed.query)['code'][0]\n",
    "api_secret =APIKEY+ reqCode + secretKey \n",
    "api_secret =  hashlib.sha256(api_secret.encode()).hexdigest()\n",
    "payload = {\"api_key\":APIKEY, \"request_code\":reqCode, \"api_secret\":api_secret}\n",
    "url3 = 'https://authapi.flattrade.in/trade/apitoken'  \n",
    "res3 = ses.post(url3, json=payload)\n",
    "print(res3.json())\n",
    "token = res3.json()['token']\n",
    "token"
   ]
  },
  {
   "cell_type": "code",
   "execution_count": null,
   "id": "e464a662-3758-47be-82ec-2b60ffbedf36",
   "metadata": {},
   "outputs": [],
   "source": []
  },
  {
   "cell_type": "markdown",
   "id": "592d1b5c-2082-4aa1-98bd-3e2f0976e07e",
   "metadata": {},
   "source": [
    "## Create Broker object "
   ]
  },
  {
   "cell_type": "code",
   "execution_count": null,
   "id": "604126b8-b8f9-4498-ba3b-c7a786c8ed1d",
   "metadata": {},
   "outputs": [],
   "source": [
    "from NorenRestApiPy.NorenApi import  NorenApi\n",
    "\n",
    "class FlatTradeApiPy(NorenApi):\n",
    "    def __init__(self):\n",
    "          NorenApi.__init__(self, host='https://piconnect.flattrade.in/PiConnectTP/', websocket='wss://piconnect.flattrade.in/PiConnectWSTp/', eodhost='https://web.flattrade.in/chartApi/getdata/')\n",
    "        \n",
    "api = FlatTradeApiPy()  \n",
    "ret = api.set_session(userid= userid, password = password, usertoken= token)\n",
    "\n",
    "api.get_limits()"
   ]
  },
  {
   "cell_type": "code",
   "execution_count": null,
   "id": "bbc508ee-ccad-46e7-b11b-eafcdb7c7498",
   "metadata": {},
   "outputs": [],
   "source": [
    "api.get_quotes(exchange='BSE', token='1')"
   ]
  },
  {
   "cell_type": "code",
   "execution_count": null,
   "id": "a9561cf9-f5cb-4f46-827a-db3ca2952d0d",
   "metadata": {},
   "outputs": [],
   "source": []
  }
 ],
 "metadata": {
  "kernelspec": {
   "display_name": "Python 3",
   "language": "python",
   "name": "python3"
  },
  "language_info": {
   "codemirror_mode": {
    "name": "ipython",
    "version": 3
   },
   "file_extension": ".py",
   "mimetype": "text/x-python",
   "name": "python",
   "nbconvert_exporter": "python",
   "pygments_lexer": "ipython3",
   "version": "3.12.4"
  }
 },
 "nbformat": 4,
 "nbformat_minor": 5
}
